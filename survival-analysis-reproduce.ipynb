{
 "cells": [
  {
   "cell_type": "markdown",
   "metadata": {},
   "source": [
    "# Reproduction of Tutorial Example using Lifelines Library"
   ]
  },
  {
   "cell_type": "markdown",
   "metadata": {},
   "source": [
    "## General Steps to Conduct Survival Analysis\n",
    "1. Load and preprocess the data\n",
    "2. Estimate the survival function using Kaplan-Meier estimator\n",
    "3. Plot the survival curve\n",
    "4. Perform statistical comparisons using log-rank test (if applicable) \n",
    "5. Fit various parametric survival models (e.g., Weibull, Exponential, Log-Normal, Log-Logistic, etc.)\n",
    "6. Compare the models to select the best model\n",
    "7. Fit Cox's proportional hazard model\n",
    "8.  Check the proportional hazard assumption\n",
    "9.  Predict survival function for new data\n",
    "10. Evaluate the model predictive performance\n",
    "11. Interpret the results\n",
    "12. Conclusion"
   ]
  },
  {
   "cell_type": "code",
   "execution_count": null,
   "metadata": {},
   "outputs": [
    {
     "name": "stdout",
     "output_type": "stream",
     "text": [
      "Requirement already satisfied: lifelines in /opt/anaconda3/lib/python3.12/site-packages (0.30.0)\n",
      "Requirement already satisfied: numpy>=1.14.0 in /opt/anaconda3/lib/python3.12/site-packages (from lifelines) (1.26.4)\n",
      "Requirement already satisfied: scipy>=1.7.0 in /opt/anaconda3/lib/python3.12/site-packages (from lifelines) (1.13.1)\n",
      "Requirement already satisfied: pandas>=2.1 in /opt/anaconda3/lib/python3.12/site-packages (from lifelines) (2.2.3)\n",
      "Requirement already satisfied: matplotlib>=3.0 in /opt/anaconda3/lib/python3.12/site-packages (from lifelines) (3.9.2)\n",
      "Requirement already satisfied: autograd>=1.5 in /opt/anaconda3/lib/python3.12/site-packages (from lifelines) (1.7.0)\n",
      "Requirement already satisfied: autograd-gamma>=0.3 in /opt/anaconda3/lib/python3.12/site-packages (from lifelines) (0.5.0)\n",
      "Requirement already satisfied: formulaic>=0.2.2 in /opt/anaconda3/lib/python3.12/site-packages (from lifelines) (1.1.1)\n",
      "Requirement already satisfied: interface-meta>=1.2.0 in /opt/anaconda3/lib/python3.12/site-packages (from formulaic>=0.2.2->lifelines) (1.3.0)\n",
      "Requirement already satisfied: typing-extensions>=4.2.0 in /opt/anaconda3/lib/python3.12/site-packages (from formulaic>=0.2.2->lifelines) (4.12.2)\n",
      "Requirement already satisfied: wrapt>=1.0 in /opt/anaconda3/lib/python3.12/site-packages (from formulaic>=0.2.2->lifelines) (1.14.1)\n",
      "Requirement already satisfied: contourpy>=1.0.1 in /opt/anaconda3/lib/python3.12/site-packages (from matplotlib>=3.0->lifelines) (1.2.0)\n",
      "Requirement already satisfied: cycler>=0.10 in /opt/anaconda3/lib/python3.12/site-packages (from matplotlib>=3.0->lifelines) (0.11.0)\n",
      "Requirement already satisfied: fonttools>=4.22.0 in /opt/anaconda3/lib/python3.12/site-packages (from matplotlib>=3.0->lifelines) (4.51.0)\n",
      "Requirement already satisfied: kiwisolver>=1.3.1 in /opt/anaconda3/lib/python3.12/site-packages (from matplotlib>=3.0->lifelines) (1.4.4)\n",
      "Requirement already satisfied: packaging>=20.0 in /opt/anaconda3/lib/python3.12/site-packages (from matplotlib>=3.0->lifelines) (24.1)\n",
      "Requirement already satisfied: pillow>=8 in /opt/anaconda3/lib/python3.12/site-packages (from matplotlib>=3.0->lifelines) (11.0.0)\n",
      "Requirement already satisfied: pyparsing>=2.3.1 in /opt/anaconda3/lib/python3.12/site-packages (from matplotlib>=3.0->lifelines) (3.0.9)\n",
      "Requirement already satisfied: python-dateutil>=2.7 in /opt/anaconda3/lib/python3.12/site-packages (from matplotlib>=3.0->lifelines) (2.9.0.post0)\n",
      "Requirement already satisfied: pytz>=2020.1 in /opt/anaconda3/lib/python3.12/site-packages (from pandas>=2.1->lifelines) (2024.2)\n",
      "Requirement already satisfied: tzdata>=2022.7 in /opt/anaconda3/lib/python3.12/site-packages (from pandas>=2.1->lifelines) (2024.2)\n",
      "Requirement already satisfied: six>=1.5 in /opt/anaconda3/lib/python3.12/site-packages (from python-dateutil>=2.7->matplotlib>=3.0->lifelines) (1.16.0)\n"
     ]
    }
   ],
   "source": [
    "# Install lifelines\n",
    "# !pip install lifelines"
   ]
  },
  {
   "cell_type": "code",
   "execution_count": 1,
   "metadata": {},
   "outputs": [
    {
     "name": "stdout",
     "output_type": "stream",
     "text": [
      "0.30.0\n"
     ]
    }
   ],
   "source": [
    "# Import libraries\n",
    "import lifelines\n",
    "print(lifelines.__version__)  # Should print the installed version\n"
   ]
  },
  {
   "cell_type": "code",
   "execution_count": null,
   "metadata": {},
   "outputs": [],
   "source": [
    "\n",
    "import numpy as np\n",
    "import pandas as pd\n",
    "import matplotlib.pyplot as plt\n",
    "import seaborn as sns\n",
    "import os\n",
    "import sys # for sys.path.append to work"
   ]
  },
  {
   "cell_type": "markdown",
   "metadata": {},
   "source": [
    "## Load and Preprocess the Data"
   ]
  }
 ],
 "metadata": {
  "kernelspec": {
   "display_name": "base",
   "language": "python",
   "name": "python3"
  },
  "language_info": {
   "codemirror_mode": {
    "name": "ipython",
    "version": 3
   },
   "file_extension": ".py",
   "mimetype": "text/x-python",
   "name": "python",
   "nbconvert_exporter": "python",
   "pygments_lexer": "ipython3",
   "version": "3.12.2"
  }
 },
 "nbformat": 4,
 "nbformat_minor": 2
}
